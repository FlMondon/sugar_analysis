{
 "cells": [
  {
   "cell_type": "code",
   "execution_count": 1,
   "metadata": {},
   "outputs": [
    {
     "name": "stderr",
     "output_type": "stream",
     "text": [
      "WARNING: AstropyDeprecationWarning: astropy.extern.six will be removed in 4.0, use the six module directly if it is still needed [astropy.extern.six]\n"
     ]
    }
   ],
   "source": [
    "import sugar_analysis as sa\n",
    "import sncosmo"
   ]
  },
  {
   "cell_type": "markdown",
   "metadata": {},
   "source": [
    "# Define path"
   ]
  },
  {
   "cell_type": "code",
   "execution_count": 2,
   "metadata": {},
   "outputs": [],
   "source": [
    "sad_path = '../../'  #sugar analysis input data\n",
    "modeldir = '../../sugar_model/' #sugar model input data"
   ]
  },
  {
   "cell_type": "markdown",
   "metadata": {},
   "source": [
    "# Define LC fitter input for salt2"
   ]
  },
  {
   "cell_type": "code",
   "execution_count": 3,
   "metadata": {},
   "outputs": [],
   "source": [
    "sample = 'csp' #str sample use for fitting\n",
    "filter_drop_csp = ['cspu'] #list of str of excluded filters \n",
    "model_name = 'salt2' #str model use for fitting\n",
    "modelcov = False #bool to fit (True) or not (False) with error model\n",
    "sub_sample = ['SN2005be_snpy.txt', 'SN2008C_snpy.txt'] #list of SN name or None : if list fit only sn in the list if none fit all the sample"
   ]
  },
  {
   "cell_type": "markdown",
   "metadata": {},
   "source": [
    "# Build light curves fitting object for salt2"
   ]
  },
  {
   "cell_type": "code",
   "execution_count": 4,
   "metadata": {},
   "outputs": [],
   "source": [
    "lcf_salt2 = sa.LC_Fitter(sample=sample, filter_drop_csp = filter_drop_csp, \n",
    "                         model_name=model_name, modelcov=modelcov,\n",
    "                        sub_sample=sub_sample)"
   ]
  },
  {
   "cell_type": "markdown",
   "metadata": {},
   "source": [
    "# Fit sample"
   ]
  },
  {
   "cell_type": "code",
   "execution_count": 5,
   "metadata": {},
   "outputs": [
    {
     "name": "stdout",
     "output_type": "stream",
     "text": [
      "SN2005be_snpy.txt\n",
      "initialisation\n",
      "first iteration\n",
      "0\n",
      "9827.132719867235 604.2300034053394\n",
      "1\n",
      "604.2300034053394 604.2299751731639\n",
      "2\n",
      "604.2299751731639 604.229975173507\n",
      "SN2008C_snpy.txt\n",
      "initialisation\n",
      "first iteration\n",
      "0\n",
      "807.4008151126458 636.5183184295387\n",
      "1\n",
      "636.5183184295387 636.5182792792885\n",
      "2\n",
      "636.5182792792885 636.5182792727018\n",
      "3\n",
      "636.5182792727018 636.5182792727046\n"
     ]
    }
   ],
   "source": [
    "lcf_salt2.fit_sample()"
   ]
  },
  {
   "cell_type": "markdown",
   "metadata": {},
   "source": [
    "# Define LC fitter input for sugar"
   ]
  },
  {
   "cell_type": "code",
   "execution_count": 6,
   "metadata": {},
   "outputs": [],
   "source": [
    "sample = 'csp' #str sample use for fitting\n",
    "filter_drop_csp = ['cspu'] #list of str of excluded filters \n",
    "model_name = 'sugar' #str model use for fitting\n",
    "modelcov = False #bool for error model should be False for the moment\n",
    "sub_sample = ['SN2005be_snpy.txt', 'SN2008C_snpy.txt'] #list of SN name or None : if list fit only sn in the list if none fit all the sample\n",
    "param_sug = ['q1', 'q2', 'q3'] #list of str of intrinsic sugar parameters included "
   ]
  },
  {
   "cell_type": "markdown",
   "metadata": {},
   "source": [
    "# Build light curves fitting object for sugar"
   ]
  },
  {
   "cell_type": "code",
   "execution_count": 7,
   "metadata": {},
   "outputs": [],
   "source": [
    "lcf_sugar = sa.LC_Fitter(sample=sample, filter_drop_csp = filter_drop_csp, \n",
    "                         model_name=model_name, modelcov=modelcov,\n",
    "                        sub_sample=sub_sample, param_sug=param_sug)"
   ]
  },
  {
   "cell_type": "markdown",
   "metadata": {},
   "source": [
    "# Fit sample"
   ]
  },
  {
   "cell_type": "code",
   "execution_count": 8,
   "metadata": {},
   "outputs": [
    {
     "name": "stdout",
     "output_type": "stream",
     "text": [
      "SN2005be_snpy.txt\n",
      "9936.66069146786 19873.32138293572\n",
      "0\n",
      "1\n",
      "2\n",
      "SN2008C_snpy.txt\n",
      "21449.615960596202 42899.231921192404\n",
      "0\n",
      "1\n"
     ]
    }
   ],
   "source": [
    "lcf_sugar.fit_sample()"
   ]
  },
  {
   "cell_type": "code",
   "execution_count": null,
   "metadata": {},
   "outputs": [],
   "source": []
  }
 ],
 "metadata": {
  "kernelspec": {
   "display_name": "Python 3",
   "language": "python",
   "name": "python3"
  },
  "language_info": {
   "codemirror_mode": {
    "name": "ipython",
    "version": 3
   },
   "file_extension": ".py",
   "mimetype": "text/x-python",
   "name": "python",
   "nbconvert_exporter": "python",
   "pygments_lexer": "ipython3",
   "version": "3.7.4"
  }
 },
 "nbformat": 4,
 "nbformat_minor": 2
}
