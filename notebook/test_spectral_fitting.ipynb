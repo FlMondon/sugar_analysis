{
 "cells": [
  {
   "cell_type": "code",
   "execution_count": 9,
   "metadata": {},
   "outputs": [],
   "source": [
    "import numpy as np\n",
    "import pylab as plt\n",
    "import sugar\n",
    "import copy\n",
    "import sugar_generator as sg\n",
    "%matplotlib inline\n",
    "model = np.loadtxt('../sugar_model/SUGAR_model_v1.asci')"
   ]
  },
  {
   "cell_type": "code",
   "execution_count": 127,
   "metadata": {
    "collapsed": true
   },
   "outputs": [],
   "source": [
    "def get_a_sed(model, q1, q2, q3, Av, grey):\n",
    "    reorder = np.arange(197*21).reshape(21, 197).T.reshape(-1)\n",
    "    sed = np.zeros_like(model[:,2])\n",
    "    sed += copy.deepcopy(model[:,2])\n",
    "    sed += q1 * copy.deepcopy(model[:,3])\n",
    "    sed += q2 * copy.deepcopy(model[:,4])\n",
    "    sed += q3 * copy.deepcopy(model[:,5])\n",
    "    sed += Av * copy.deepcopy(model[:,6])\n",
    "    sed += grey\n",
    "    return sed\n",
    "\n",
    "francis = get_a_sed(model, 1., 1., 1., 0.1, 0.)"
   ]
  },
  {
   "cell_type": "code",
   "execution_count": 128,
   "metadata": {
    "collapsed": true
   },
   "outputs": [],
   "source": [
    "def flbda2fnu( x, y, var=None, backward=False):\n",
    "    \"\"\"Convert *x* [A], *y* [erg/s/cm2/A] to *y* [erg/s/cm2/Hz]. Se\n",
    "    `var=var(y)` to get variance.\"\"\"\n",
    "\n",
    "    f = x**2 / 299792458. * 1.e-10 # Conversion factor                                                                                                                      \n",
    "    if backward: \n",
    "        f = 1./f   \n",
    "    if var is None:                # Return converted signa\n",
    "        return y * f\n",
    "    else:                          # Return converted variance\n",
    "        return var * f**2\n",
    "\n",
    "def flbda2ABmag( x, y, ABmag0=48.59, var=None):\n",
    "    \"\"\"Convert *x* [A], *y* [erg/s/cm2/A] to `ABmag =                                                                                                                       \n",
    "    -2.5*log10(erg/s/cm2/Hz) - ABmag0`. Set `var=var(y)` to get                                                                                                             \n",
    "    variance.\"\"\"          \n",
    "    z = flbda2fnu(x,y)\n",
    "    if var is None:\n",
    "        return -2.5*np.log10(z) - ABmag0 \n",
    "    else:\n",
    "        return (2.5/np.log(10)/z)**2 * flbda2fnu(x,y,var=var)"
   ]
  },
  {
   "cell_type": "code",
   "execution_count": 129,
   "metadata": {},
   "outputs": [
    {
     "name": "stdout",
     "output_type": "stream",
     "text": [
      "[  1.55431223e-15   1.00000000e+00   1.00000000e+00   1.00000000e+00\n",
      "   1.00000000e-01]\n"
     ]
    }
   ],
   "source": [
    "def get_param(sed, sed_err, model):\n",
    "    reorder = np.arange(197*21).reshape(21, 197).T.reshape(-1)\n",
    "    W = np.eye(len(sed_err))*1./sed_err\n",
    "    A = np.array([np.ones_like(model[:,3]), model[:,3],model[:,4], model[:,5], model[:,6]]).T\n",
    "    left = np.linalg.inv(np.dot(A.T,np.dot(W, A)))\n",
    "    right = np.dot(A.T, np.dot(W, sed - model[:,2]))\n",
    "    h = np.dot(left, right)\n",
    "    print h \n",
    "    \n",
    "get_param(francis, np.ones_like(francis), model)"
   ]
  },
  {
   "cell_type": "code",
   "execution_count": 130,
   "metadata": {},
   "outputs": [
    {
     "name": "stdout",
     "output_type": "stream",
     "text": [
      "48.0 8649.03871\n",
      "[-12.  -9.  -6.  -3.   0.   3.   6.   9.  12.  15.  18.  21.  24.  27.  30.\n",
      "  33.  36.  39.  42.  45.  48.] [ 3254.01639  3270.28648  3286.63791  3303.0711   3319.58645  3336.18439\n",
      "  3352.86531  3369.62963  3386.47778  3403.41017  3420.42722  3437.52936\n",
      "  3454.717    3471.99059  3489.35054  3506.7973   3524.33128  3541.95294\n",
      "  3559.6627   3577.46102  3595.34832  3613.32506  3631.39169  3649.54865\n",
      "  3667.79639  3686.13537  3704.56605  3723.08888  3741.70432  3760.41284\n",
      "  3779.21491  3798.11098  3817.10154  3836.18705  3855.36798  3874.64482\n",
      "  3894.01805  3913.48814  3933.05558  3952.72085  3972.48446  3992.34688\n",
      "  4012.30862  4032.37016  4052.53201  4072.79467  4093.15864  4113.62444\n",
      "  4134.19256  4154.86352  4175.63784  4196.51603  4217.49861  4238.5861\n",
      "  4259.77903  4281.07793  4302.48332  4323.99573  4345.61571  4367.34379\n",
      "  4389.18051  4411.12641  4433.18204  4455.34795  4477.62469  4500.01282\n",
      "  4522.51288  4545.12545  4567.85107  4590.69033  4613.64378  4636.712\n",
      "  4659.89556  4683.19504  4706.61101  4730.14407  4753.79479  4777.56376\n",
      "  4801.45158  4825.45884  4849.58613  4873.83406  4898.20323  4922.69425\n",
      "  4947.30772  4972.04426  4996.90448  5021.889    5046.99845  5072.23344\n",
      "  5097.59461  5123.08258  5148.69799  5174.44148  5200.31369  5226.31526\n",
      "  5252.44683  5278.70907  5305.10261  5331.62813  5358.28627  5385.0777\n",
      "  5412.00309  5439.0631   5466.25842  5493.58971  5521.05766  5548.66295\n",
      "  5576.40626  5604.28829  5632.30974  5660.47128  5688.77364  5717.21751\n",
      "  5745.8036   5774.53261  5803.40528  5832.4223   5861.58441  5890.89234\n",
      "  5920.3468   5949.94853  5979.69828  6009.59677  6039.64475  6069.84297\n",
      "  6100.19219  6130.69315  6161.34662  6192.15335  6223.11412  6254.22969\n",
      "  6285.50083  6316.92834  6348.51298  6380.25555  6412.15682  6444.21761\n",
      "  6476.4387   6508.82089  6541.36499  6574.07182  6606.94218  6639.97689\n",
      "  6673.17677  6706.54266  6740.07537  6773.77575  6807.64463  6841.68285\n",
      "  6875.89126  6910.27072  6944.82207  6979.54618  7014.44391  7049.51613\n",
      "  7084.76371  7120.18753  7155.78847  7191.56741  7227.52525  7263.66288\n",
      "  7299.98119  7336.4811   7373.1635   7410.02932  7447.07947  7484.31486\n",
      "  7521.73644  7559.34512  7597.14185  7635.12755  7673.30319  7711.66971\n",
      "  7750.22806  7788.9792   7827.92409  7867.06371  7906.39903  7945.93103\n",
      "  7985.66068  8025.58899  8065.71693  8106.04552  8146.57574  8187.30862\n",
      "  8228.24516  8269.38639  8310.73332  8352.28699  8394.04842  8436.01867\n",
      "  8478.19876  8520.58975  8563.1927   8606.00867  8649.03871]\n",
      "[-16.718635 -17.083105 -17.339205 ..., -17.572257 -17.396087 -17.218267]\n",
      "[-16.718635 -17.083105 -17.339205 ..., -17.572257 -17.396087 -17.218267]\n"
     ]
    }
   ],
   "source": [
    "ss = sg.sugar_spectrum()\n",
    "ss._parameters = np.array([1., 1., 1., 0.1, 0.])\n",
    "spec_mag = []\n",
    "spec_mag_err = []\n",
    "reorder = np.arange(197*21).reshape(21, 197).T.reshape(-1)\n",
    "#ss._wave = np.sort(model[:,1][:197])\n",
    "print model[:,0][4136], model[:,1][4136]\n",
    "\n",
    "for p in (ss._phase):\n",
    "    spec_mag_p = flbda2ABmag(ss._wave, ss.model_spectrum_flux_m0(p, ss._wave)[0])  \n",
    "    \n",
    "    spec_mag_p_err = np.ones_like(spec_mag_p)*0.000000000000001\n",
    "    spec_mag += list(spec_mag_p)\n",
    "    spec_mag_err += list(spec_mag_p_err)\n",
    "spec_mag = np.array(spec_mag)\n",
    "spec_mag_err = np.array(spec_mag_err)\n",
    "print ss._phase, ss._wave\n",
    "print spec_mag[reorder]\n",
    "print model[:,2]+ model[:,3]+ model[:,4]+ model[:,5]+ model[:,6]*0.1"
   ]
  },
  {
   "cell_type": "code",
   "execution_count": 131,
   "metadata": {},
   "outputs": [
    {
     "name": "stdout",
     "output_type": "stream",
     "text": [
      "[  3.10862447e-15   1.00000000e+00   1.00000000e+00   1.00000000e+00\n",
      "   1.00000000e-01]\n"
     ]
    }
   ],
   "source": [
    "get_param(spec_mag[reorder], np.ones_like(francis), model)\n"
   ]
  },
  {
   "cell_type": "code",
   "execution_count": null,
   "metadata": {
    "collapsed": true
   },
   "outputs": [],
   "source": []
  }
 ],
 "metadata": {
  "kernelspec": {
   "display_name": "Python 2",
   "language": "python",
   "name": "python2"
  },
  "language_info": {
   "codemirror_mode": {
    "name": "ipython",
    "version": 2
   },
   "file_extension": ".py",
   "mimetype": "text/x-python",
   "name": "python",
   "nbconvert_exporter": "python",
   "pygments_lexer": "ipython2",
   "version": "2.7.14"
  }
 },
 "nbformat": 4,
 "nbformat_minor": 2
}
