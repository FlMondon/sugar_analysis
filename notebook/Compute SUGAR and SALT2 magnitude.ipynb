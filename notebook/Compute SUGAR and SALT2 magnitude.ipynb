{
 "cells": [
  {
   "cell_type": "code",
   "execution_count": 1,
   "metadata": {},
   "outputs": [],
   "source": [
    "import sugar_analysis as sa\n",
    "import sncosmo  \n",
    "import numpy as np\n",
    "import astropy.units as u\n",
    "from matplotlib import pyplot as plt"
   ]
  },
  {
   "cell_type": "markdown",
   "metadata": {},
   "source": [
    "# Load SUGAR"
   ]
  },
  {
   "cell_type": "code",
   "execution_count": 2,
   "metadata": {},
   "outputs": [],
   "source": [
    "sa.register_SUGAR(modeldir= '../../sugar_model/')"
   ]
  },
  {
   "cell_type": "markdown",
   "metadata": {},
   "source": [
    "# Load new filter and new magnitude system"
   ]
  },
  {
   "cell_type": "markdown",
   "metadata": {},
   "source": [
    "## Load filter"
   ]
  },
  {
   "cell_type": "code",
   "execution_count": 3,
   "metadata": {},
   "outputs": [],
   "source": [
    "def new_filter(wavel, trans, band_name):\n",
    "    \"\"\"\n",
    "    Register new filter in sncosmo.\n",
    "    wavel : array \n",
    "            wavelength in A\n",
    "    trans : array\n",
    "            transmission\n",
    "    band_name : str\n",
    "                name of this filter in sncosmo\n",
    "    \"\"\"\n",
    "    band = sncosmo.Bandpass(wavel, trans, wave_unit=u.AA, name=band_name)    \n",
    "    sncosmo.registry.register(band, force=True)"
   ]
  },
  {
   "cell_type": "markdown",
   "metadata": {},
   "source": [
    "## Load Magnitude system "
   ]
  },
  {
   "cell_type": "raw",
   "metadata": {},
   "source": [
    "Define a new Magitude system is necessary with a new set of filters. A reference spectrum is needed"
   ]
  },
  {
   "cell_type": "code",
   "execution_count": 4,
   "metadata": {},
   "outputs": [],
   "source": [
    "def new_mag_sys(name, path_ref_spectrum, set_band_name):\n",
    "        \"\"\"\n",
    "        Register in sncosmo new magnitude based on a set of filters and a reference spectrum\n",
    "        name : str\n",
    "               name register in sncosmo for ths magnitude system\n",
    "        path_ref_spectrum : str\n",
    "                            path to reference spectrum, file need to be a .dat or .ascii \n",
    "                            with first colum wavelenght and flux density on second colum\n",
    "        set_band_name : list of band name\n",
    "                        All this name have to be register in sncosmo\n",
    "        \"\"\"\n",
    "        def load_spectral_magsys(relpath, name=None, version=None):\n",
    "            \"\"\"\n",
    "            load reference spectrum in sncosmo\n",
    "            \"\"\"\n",
    "            data = np.genfromtxt(relpath)\n",
    "            dispersion = data[:,0]\n",
    "            flux_density = data[:,1]\n",
    "            refspectrum = sncosmo.spectrum.Spectrum(dispersion, flux_density,\n",
    "                                   unit=(u.erg / u.s / u.cm**2 / u.AA), wave_unit=u.AA)\n",
    "            return sncosmo.magsystems.SpectralMagSystem(refspectrum, name=name)\n",
    "        \n",
    "        sncosmo.registry.register_loader(sncosmo.MagSystem, 'spec_ref', load_spectral_magsys,\n",
    "                                 args=[path_ref_spectrum], force=True)\n",
    "        set_band = {}\n",
    "        \n",
    "        for b in set_band_name:\n",
    "            set_band[b] = ('spec_ref', 0)  #shift between the magnitude system using 'spec ref' as reference \n",
    "                                       #and the final magnitude system 0 by default\n",
    "        sncosmo.registry.register(sncosmo.CompositeMagSystem(bands=set_band), name, force=True)\n",
    "            \n",
    "        "
   ]
  },
  {
   "cell_type": "markdown",
   "metadata": {},
   "source": [
    "## Exemple"
   ]
  },
  {
   "cell_type": "markdown",
   "metadata": {},
   "source": [
    "### Load filters"
   ]
  },
  {
   "cell_type": "code",
   "execution_count": 5,
   "metadata": {},
   "outputs": [],
   "source": [
    "wavel_B = np.arange(4102,5100,1.)\n",
    "wavel_V = np.arange(5200,6290,1.)\n",
    "wavel_R = np.arange(6289,7607,1.)\n",
    "trans_B = np.ones_like(wavel_B)\n",
    "trans_V = np.ones_like(wavel_V)\n",
    "trans_R = np.ones_like(wavel_R)\n",
    "trans_B[0] = 0.0\n",
    "trans_B[len(trans_B)-1] = 0.0\n",
    "trans_V[0] = 0.0\n",
    "trans_V[len(trans_V)-1] = 0.0\n",
    "trans_R[0] = 0.0\n",
    "trans_R[len(trans_R)-1] = 0.0\n",
    "new_filter(wavel_B, trans_B, 'band_B')\n",
    "new_filter(wavel_V, trans_V, 'band_V')\n",
    "new_filter(wavel_R, trans_R, 'band_R')"
   ]
  },
  {
   "cell_type": "markdown",
   "metadata": {},
   "source": [
    "### Load mag sys"
   ]
  },
  {
   "cell_type": "code",
   "execution_count": 6,
   "metadata": {},
   "outputs": [],
   "source": [
    "set_band_name = ['band_B','band_V','band_R']\n",
    "new_mag_sys('mag_sys', '../../sugar_analysis_data/data/MagSys/bd_17d4708_stisnic_002.ascii', set_band_name)"
   ]
  },
  {
   "cell_type": "markdown",
   "metadata": {},
   "source": [
    "# Define SUGAR or SALT2 model for a given set of parameter"
   ]
  },
  {
   "cell_type": "markdown",
   "metadata": {},
   "source": [
    "## Set SALT2 and SUGAR parameters "
   ]
  },
  {
   "cell_type": "code",
   "execution_count": 7,
   "metadata": {},
   "outputs": [],
   "source": [
    "#array like np.array([zhl, t0, x1, c, mwebv]) or np.array([zhl, t0, q1, q2, q3, A, mwebv])\n",
    "\n",
    "# SALT2 \n",
    "param_salt2 = np.array([0., 0., 0., 0., 0.])\n",
    "\n",
    "#SUGAR\n",
    "param_sugar = np.array([0., 0., 0., 0., 0., 0., 0.])"
   ]
  },
  {
   "cell_type": "markdown",
   "metadata": {},
   "source": [
    "## Register SALT2 model"
   ]
  },
  {
   "cell_type": "code",
   "execution_count": 8,
   "metadata": {},
   "outputs": [],
   "source": [
    "salt2_source = sncosmo.get_source('salt2', version='2.4')\n",
    "dust = sncosmo.CCM89Dust()\n",
    "salt2_model = sncosmo.Model(source=salt2_source, \n",
    "                              effects=[dust], \n",
    "                              effect_names=['mw'], \n",
    "                              effect_frames=['obs'])   \n",
    "salt2_model.set(z=param_salt2[0], t0=param_salt2[1], x1=param_salt2[2], c=param_salt2[3], mwebv=param_salt2[4])"
   ]
  },
  {
   "cell_type": "markdown",
   "metadata": {},
   "source": [
    "## Register SUGAR model "
   ]
  },
  {
   "cell_type": "code",
   "execution_count": 9,
   "metadata": {},
   "outputs": [],
   "source": [
    "sugar_source = sncosmo.get_source('sugar')\n",
    "dust = sncosmo.CCM89Dust()\n",
    "sugar_model = sncosmo.Model(source=sugar_source, \n",
    "                              effects=[dust], \n",
    "                              effect_names=['mw'], \n",
    "                              effect_frames=['obs'])   \n",
    "sugar_model.set(z=param_sugar[0], t0=param_sugar[1], \n",
    "                q1=param_sugar[2], q2=param_sugar[3],\n",
    "                q3=param_sugar[4], A=param_sugar[5],\n",
    "                mwebv=param_sugar[6])"
   ]
  },
  {
   "cell_type": "markdown",
   "metadata": {},
   "source": [
    "# Compute SUGAR or SALT2 light curve in a given band"
   ]
  },
  {
   "cell_type": "markdown",
   "metadata": {},
   "source": [
    "## get band from sncosmo "
   ]
  },
  {
   "cell_type": "code",
   "execution_count": 10,
   "metadata": {},
   "outputs": [],
   "source": [
    "band_B = sncosmo.get_bandpass('band_B') #one of the name bands define previously"
   ]
  },
  {
   "cell_type": "markdown",
   "metadata": {},
   "source": [
    "## Compute SUGAR or SALT2 band flux for different phase"
   ]
  },
  {
   "cell_type": "code",
   "execution_count": 11,
   "metadata": {},
   "outputs": [],
   "source": [
    "time = np.arange(-10, 48, 1.)\n",
    "\n",
    "#in flux\n",
    "band_flux_sugar = sugar_model.bandflux(band_B, time)\n",
    "band_flux_salt2 = salt2_model.bandflux(band_B, time)\n",
    "\n",
    "#in mag\n",
    "band_mag_sugar = sugar_model.bandmag(band_B, 'mag_sys', time) #magsys name\n",
    "band_mag_salt2 = salt2_model.bandmag(band_B, 'mag_sys',time)"
   ]
  },
  {
   "cell_type": "markdown",
   "metadata": {},
   "source": [
    "## Plot light curves"
   ]
  },
  {
   "cell_type": "code",
   "execution_count": 12,
   "metadata": {},
   "outputs": [
    {
     "data": {
      "image/png": "[encoded data removed]",
      "text/plain": [
       "<Figure size 432x288 with 1 Axes>"
      ]
     },
     "metadata": {},
     "output_type": "display_data"
    }
   ],
   "source": [
    "plt.plot(time, band_flux_sugar, label='SUGAR', c='r')\n",
    "plt.plot(time, band_flux_salt2, label='SALT2', c='b')\n",
    "plt.legend()\n",
    "plt.show()"
   ]
  },
  {
   "cell_type": "markdown",
   "metadata": {},
   "source": [
    "# Compute SUGAR or SALT2 spectra at a given time"
   ]
  },
  {
   "cell_type": "code",
   "execution_count": 13,
   "metadata": {},
   "outputs": [],
   "source": [
    "time = 0.\n",
    "wavel = np.arange(3255,8649, 1.)\n",
    "\n",
    "#in flux\n",
    "band_flux_sugar = sugar_model.flux(time, wavel)\n",
    "band_flux_salt2 = salt2_model.flux(time, wavel)\n",
    "\n",
    "#in AB mag\n",
    "band_mag_sugar =  -2.5*np.log10(band_flux_sugar*(wavel ** 2 / 299792458. * 1.e-10))\n",
    "band_mag_salt2 = -2.5*np.log10(band_flux_salt2*(wavel ** 2 / 299792458. * 1.e-10))"
   ]
  },
  {
   "cell_type": "markdown",
   "metadata": {},
   "source": [
    "## Plot spectra"
   ]
  },
  {
   "cell_type": "code",
   "execution_count": 14,
   "metadata": {},
   "outputs": [
    {
     "data": {
      "image/png": "[encoded data removed]",
      "text/plain": [
       "<Figure size 432x288 with 1 Axes>"
      ]
     },
     "metadata": {},
     "output_type": "display_data"
    }
   ],
   "source": [
    "plt.plot(wavel, band_flux_sugar, label='SUGAR', c='r')\n",
    "plt.plot(wavel, band_flux_salt2, label='SALT2', c='b')\n",
    "plt.legend()\n",
    "plt.show()"
   ]
  },
  {
   "cell_type": "code",
   "execution_count": null,
   "metadata": {},
   "outputs": [],
   "source": []
  },
  {
   "cell_type": "code",
   "execution_count": null,
   "metadata": {},
   "outputs": [],
   "source": []
  },
  {
   "cell_type": "code",
   "execution_count": null,
   "metadata": {},
   "outputs": [],
   "source": []
  },
  {
   "cell_type": "code",
   "execution_count": null,
   "metadata": {},
   "outputs": [],
   "source": []
  }
 ],
 "metadata": {
  "kernelspec": {
   "display_name": "Python 2",
   "language": "python",
   "name": "python2"
  },
  "language_info": {
   "codemirror_mode": {
    "name": "ipython",
    "version": 2
   },
   "file_extension": ".py",
   "mimetype": "text/x-python",
   "name": "python",
   "nbconvert_exporter": "python",
   "pygments_lexer": "ipython2",
   "version": "2.7.14"
  }
 },
 "nbformat": 4,
 "nbformat_minor": 2
}
