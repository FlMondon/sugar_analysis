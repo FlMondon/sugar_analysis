{
 "cells": [
  {
   "cell_type": "code",
   "execution_count": 2,
   "metadata": {
    "collapsed": true
   },
   "outputs": [],
   "source": [
    "import numpy as np\n",
    "from matplotlib import pyplot as plt\n",
    "from sugar import extract_idr_data as extract\n",
    "from sugar import compute_sugar_parameter as csp\n",
    "import builtins_SNF as Build_SNF\n",
    "import sugar_generator as sts\n",
    "import sncosmo_fit_SNF as SFS\n",
    "from scipy import integrate\n",
    "import cPickle as pkl"
   ]
  },
  {
   "cell_type": "code",
   "execution_count": 3,
   "metadata": {
    "collapsed": true
   },
   "outputs": [],
   "source": [
    "parameters = np.array([1. ,1. ,1., 0.1, 39.])"
   ]
  },
  {
   "cell_type": "code",
   "execution_count": 4,
   "metadata": {
    "collapsed": true
   },
   "outputs": [],
   "source": [
    "def flbda2fnu( x, y, var=None, backward=False):\n",
    "    \"\"\"Convert *x* [A], *y* [erg/s/cm2/A] to *y* [erg/s/cm2/Hz]. Se\n",
    "    `var=var(y)` to get variance.\"\"\"\n",
    "\n",
    "    f = x**2 / 299792458. * 1.e-10 # Conversion factor                                                                                                                      \n",
    "    if backward: \n",
    "        f = 1./f   \n",
    "    if var is None:                # Return converted signa\n",
    "        return y * f\n",
    "    else:                          # Return converted variance\n",
    "        return var * f**2\n",
    "\n",
    "def flbda2ABmag( x, y, ABmag0=48.59, var=None):\n",
    "    \"\"\"Convert *x* [A], *y* [erg/s/cm2/A] to `ABmag =                                                                                                                       \n",
    "    -2.5*log10(erg/s/cm2/Hz) - ABmag0`. Set `var=var(y)` to get                                                                                                             \n",
    "    variance.\"\"\"          \n",
    "    z = flbda2fnu(x,y)\n",
    "    if var is None:\n",
    "        return -2.5*np.log10(z) - ABmag0 \n",
    "    else:\n",
    "        return (2.5/np.log(10)/z)**2 * flbda2fnu(x,y,var=var)"
   ]
  },
  {
   "cell_type": "code",
   "execution_count": 5,
   "metadata": {
    "collapsed": true
   },
   "outputs": [],
   "source": [
    "ss = sts.sugar_spectrum()\n",
    "ss._parameters = parameters\n",
    "ss._phase = np.array([-10.06878412,  -8.05520043,  -8.04228848,  -8.03005611,  -5.12622786,\n",
    "  -5.11331592,  -5.10108355,  -3.18332007,  -0.20405888,  -0.18774906,\n",
    "   1.74904254,  4.62772648,   6.59034197,   9.52746945,  11.48668706,\n",
    "  14.4306103,   16.39594409,  19.31268429,  21.28753215,  24.21582514,\n",
    "  26.14378225,  31.05915547,  33.97453652,  37.87054573])"
   ]
  },
  {
   "cell_type": "code",
   "execution_count": 6,
   "metadata": {
    "collapsed": true
   },
   "outputs": [],
   "source": [
    "data_phot = ss.AstropyTable_flux(error=False)"
   ]
  },
  {
   "cell_type": "code",
   "execution_count": 7,
   "metadata": {},
   "outputs": [
    {
     "name": "stdout",
     "output_type": "stream",
     "text": [
      "    time        band          flux       fluxerr       zp         zpsys   \n",
      "------------ --------- ----------------- ------- ------------- -----------\n",
      "-10.06878412 new_fI_10  0.00387697268651   1e-11 14.5598699276 vega_snf_10\n",
      "-10.06878412     fB_10  0.00580160919787   1e-11 15.3139259152 vega_snf_10\n",
      "-10.06878412     fV_10  0.00481237123844   1e-11 14.9931961734 vega_snf_10\n",
      "-10.06878412     fR_10  0.00469337635382   1e-11 14.7681575147 vega_snf_10\n",
      "-10.06878412     fU_10  0.00473388424053   1e-11 14.6340814575 vega_snf_10\n",
      " -8.05520043 new_fI_10  0.00475229969582   1e-11 14.5598699276 vega_snf_10\n",
      " -8.05520043     fB_10  0.00745735611037   1e-11 15.3139259152 vega_snf_10\n",
      " -8.05520043     fV_10  0.00616619607641   1e-11 14.9931961734 vega_snf_10\n",
      " -8.05520043     fR_10  0.00594291488692   1e-11 14.7681575147 vega_snf_10\n",
      " -8.05520043     fU_10  0.00608473295662   1e-11 14.6340814575 vega_snf_10\n",
      "         ...       ...               ...     ...           ...         ...\n",
      " 31.05915547     fU_10 0.000596283933871   1e-11 14.6340814575 vega_snf_10\n",
      " 33.97453652 new_fI_10  0.00257038101831   1e-11 14.5598699276 vega_snf_10\n",
      " 33.97453652     fB_10  0.00117158364743   1e-11 15.3139259152 vega_snf_10\n",
      " 33.97453652     fV_10  0.00248550089409   1e-11 14.9931961734 vega_snf_10\n",
      " 33.97453652     fR_10  0.00283208871426   1e-11 14.7681575147 vega_snf_10\n",
      " 33.97453652     fU_10 0.000549401321567   1e-11 14.6340814575 vega_snf_10\n",
      " 37.87054573 new_fI_10   0.0020271406817   1e-11 14.5598699276 vega_snf_10\n",
      " 37.87054573     fB_10 0.000998794638444   1e-11 15.3139259152 vega_snf_10\n",
      " 37.87054573     fV_10  0.00208634340576   1e-11 14.9931961734 vega_snf_10\n",
      " 37.87054573     fR_10  0.00223265170742   1e-11 14.7681575147 vega_snf_10\n",
      " 37.87054573     fU_10 0.000490942147708   1e-11 14.6340814575 vega_snf_10\n",
      "Length = 120 rows\n",
      "initialisation\n",
      "first iteration\n",
      "4.00484719783e+16\n",
      "0\n",
      "WARNING: Sugar don't have model covariance for the moment\n",
      "4.00484719783e+16 252569516.524\n",
      "1\n",
      "WARNING: Sugar don't have model covariance for the moment\n",
      "252569516.524 252569518.947\n",
      "       errors: OrderedDict([('t0', 3.1043860815316293e-09), ('q1', 9.177464827131085e-09), ('q2', 1.7577681561010813e-08), ('q3', 5.590947319619797e-09), ('A', 1.043638827751407e-09), ('Mgr', 8.601637005118911e-10)])\n",
      "   parameters: array([  0.00000000e+00,  -2.47744387e-05,   9.99993890e-01,\n",
      "         1.00019614e+00,   1.00000327e+00,   9.99949724e-02,\n",
      "         3.90000055e+01,   0.00000000e+00,   3.10000000e+00])\n",
      "      success: False\n",
      "    data_mask: array([ True,  True,  True,  True,  True,  True,  True,  True,  True,\n",
      "        True,  True,  True,  True,  True,  True,  True,  True,  True,\n",
      "        True,  True,  True,  True,  True,  True,  True,  True,  True,\n",
      "        True,  True,  True,  True,  True,  True,  True,  True,  True,\n",
      "        True,  True,  True,  True,  True,  True,  True,  True,  True,\n",
      "        True,  True,  True,  True,  True,  True,  True,  True,  True,\n",
      "        True,  True,  True,  True,  True,  True,  True,  True,  True,\n",
      "        True,  True,  True,  True,  True,  True,  True,  True,  True,\n",
      "        True,  True,  True,  True,  True,  True,  True,  True,  True,\n",
      "        True,  True,  True,  True,  True,  True,  True,  True,  True,\n",
      "        True,  True,  True,  True,  True,  True,  True,  True,  True,\n",
      "        True,  True,  True,  True,  True,  True,  True,  True,  True,\n",
      "        True,  True,  True,  True,  True,  True,  True,  True,  True,\n",
      "        True,  True,  True], dtype=bool)\n",
      "         ndof: 114\n",
      "   covariance: array([[  9.63723211e-18,   8.58975362e-18,  -2.16113546e-17,\n",
      "          5.44469228e-18,  -1.19143401e-18,   3.20430051e-19],\n",
      "       [  8.58975362e-18,   8.42258607e-17,  -1.88286034e-17,\n",
      "          3.29322751e-17,  -8.09883894e-18,   3.06180676e-18],\n",
      "       [ -2.16113546e-17,  -1.88286034e-17,   3.08974889e-16,\n",
      "          1.09985601e-17,   5.72315631e-18,   4.02209937e-18],\n",
      "       [  5.44469228e-18,   3.29322751e-17,   1.09985601e-17,\n",
      "          3.12586919e-17,  -3.36171427e-18,   3.47381013e-18],\n",
      "       [ -1.19143401e-18,  -8.09883894e-18,   5.72315631e-18,\n",
      "         -3.36171427e-18,   1.08918200e-18,  -5.56031578e-19],\n",
      "       [  3.20430051e-19,   3.06180676e-18,   4.02209937e-18,\n",
      "          3.47381013e-18,  -5.56031578e-19,   7.39881592e-19]])\n",
      " vparam_names: ['t0', 'q1', 'q2', 'q3', 'A', 'Mgr']\n",
      "        chisq: 252569516.5236372\n",
      "         nfit: 1\n",
      "  param_names: ['z', 't0', 'q1', 'q2', 'q3', 'A', 'Mgr', 'mwebv', 'mwr_v']\n",
      "      message: 'Minimization exited successfully.'\n",
      "        ncall: 254\n"
     ]
    }
   ],
   "source": [
    "print data_phot\n",
    "ss.fit_lc_sugar(data_phot)"
   ]
  },
  {
   "cell_type": "code",
   "execution_count": 8,
   "metadata": {},
   "outputs": [
    {
     "name": "stdout",
     "output_type": "stream",
     "text": [
      "[-10.06878412  -8.05520043  -8.04228848  -8.03005611  -5.12622786\n",
      "  -5.11331592  -5.10108355  -3.18332007  -0.20405888  -0.18774906\n",
      "   1.74904254   4.62772648   6.59034197   9.52746945  11.48668706\n",
      "  14.4306103   16.39594409  19.31268429  21.28753215  24.21582514\n",
      "  26.14378225  31.05915547  33.97453652  37.87054573]\n",
      "4728 4728\n"
     ]
    }
   ],
   "source": [
    "spec_mag = []\n",
    "spec_mag_err = []\n",
    "print ss._phase\n",
    "for p in (ss._phase):\n",
    "    spec_mag_p = flbda2ABmag(ss._wave, ss.model_spectrum_flux_m0(p, ss._wave)[0])  \n",
    "    spec_mag_p_err = np.ones_like(spec_mag_p)*0.000000000000001\n",
    "    spec_mag += list(spec_mag_p)\n",
    "    spec_mag_err += list(spec_mag_p_err)\n",
    "spec_mag = np.array(spec_mag)\n",
    "spec_mag_err = np.array(spec_mag_err)\n",
    "\n",
    "print len(spec_mag), len(spec_mag_err)"
   ]
  },
  {
   "cell_type": "code",
   "execution_count": 20,
   "metadata": {
    "scrolled": true
   },
   "outputs": [
    {
     "name": "stdout",
     "output_type": "stream",
     "text": [
      "[[ -1.73696737e+01   1.00000000e+00   1.84974773e+00   1.86554265e-01\n",
      "   -1.16908862e-02   4.75235229e-02]\n",
      " [ -1.74205255e+01   1.00000000e+00   1.83837422e+00   1.86238349e-01\n",
      "   -1.15888252e-02   8.59205518e-02]\n",
      " [ -1.74850182e+01   1.00000000e+00   1.82745128e+00   2.15430417e-01\n",
      "    1.20261875e-02   1.09439889e-01]\n",
      " ..., \n",
      " [ -1.76786806e+01   1.00000000e+00   4.82017458e-01   1.33717627e-01\n",
      "   -1.05569972e-02  -2.16274012e-01]\n",
      " [ -1.77133397e+01   1.00000000e+00   4.76961479e-01   1.19208124e-01\n",
      "   -2.13304515e-02  -2.32577732e-01]\n",
      " [ -1.77715440e+01   1.00000000e+00   4.72033467e-01   1.15704997e-01\n",
      "   -2.10576595e-02  -2.24692035e-01]] [ 22.04674158  22.03144736  22.04185724 ...,  21.27417715  21.19742089\n",
      "  21.14779758]\n",
      "[[ 39.00095142   0.10067824   0.99392367   1.01224428   0.9975441 ]]\n"
     ]
    }
   ],
   "source": [
    "dic_sed = pkl.load(open('../sugar_model/sugar_model.pkl'))\n",
    "SPECTRA = '../sugar_analysis_data/spectra_snia_v2.pkl'\n",
    "HH = []\n",
    "dic = {}\n",
    "SN = ['SNF20080514-002']\n",
    "reorder = np.arange(197*21).reshape(21, 197).T.reshape(-1)\n",
    "\n",
    "ASED= csp.aligne_SED(SPECTRA,SNN,dic_sed['alpha'],dic_sed['m0'],2.5792515484625764)\n",
    "\n",
    "ASED.align_SED()\n",
    "print ASED.SED , spec_mag\n",
    "\n",
    "GF=csp.global_fit(spec_mag,ASED.SED,dY=spec_mag_err,CovY=None)\n",
    "GF.compute_h()\n",
    "\n",
    "\n",
    "#print GF.h\n",
    "HH.append(GF.h)\n",
    "A=np.array(HH)\n",
    "h=A[0]\n",
    "cov_h=GF.cov_h\n",
    "print h\n"
   ]
  },
  {
   "cell_type": "code",
   "execution_count": 9,
   "metadata": {},
   "outputs": [
    {
     "name": "stdout",
     "output_type": "stream",
     "text": [
      "[-10.06878412  -8.05520043  -8.04228848  -8.03005611  -5.12622786\n",
      "  -5.11331592  -5.10108355  -3.18332007  -0.20405888  -0.18774906\n",
      "   1.74904254   4.62772648   6.59034197   9.52746945  11.48668706\n",
      "  14.4306103   16.39594409  19.31268429  21.28753215  24.21582514\n",
      "  26.14378225  31.05915547  33.97453652  37.87054573]\n"
     ]
    }
   ],
   "source": [
    "print ASED.Phase"
   ]
  },
  {
   "cell_type": "code",
   "execution_count": 10,
   "metadata": {
    "collapsed": true
   },
   "outputs": [],
   "source": [
    "m0 = np.loadtxt('../sugar_model/sugar_template_0.dat')"
   ]
  },
  {
   "cell_type": "code",
   "execution_count": 11,
   "metadata": {
    "scrolled": true
   },
   "outputs": [
    {
     "data": {
      "image/png": "[encoded data removed]",
      "text/plain": [
       "<matplotlib.figure.Figure at 0x7fcb54f2d490>"
      ]
     },
     "metadata": {},
     "output_type": "display_data"
    }
   ],
   "source": [
    "reorder = np.arange(197*21).reshape(21, 197).T.reshape(-1)\n",
    "\n",
    "plt.plot(m0[:,2][reorder])\n",
    "plt.show()"
   ]
  },
  {
   "cell_type": "code",
   "execution_count": 16,
   "metadata": {},
   "outputs": [
    {
     "name": "stdout",
     "output_type": "stream",
     "text": [
      "[-17.07748 -17.51751 -17.8243  ..., -17.49115 -17.30622 -17.10976]\n"
     ]
    },
    {
     "data": {
      "image/png": "[encoded data removed]",
      "text/plain": [
       "<matplotlib.figure.Figure at 0x7f9d6c0903d0>"
      ]
     },
     "metadata": {},
     "output_type": "display_data"
    }
   ],
   "source": [
    "\n",
    "plt.plot(m0[:,2][reorder] - ASED.M0)\n",
    "plt.show()"
   ]
  },
  {
   "cell_type": "code",
   "execution_count": 10,
   "metadata": {},
   "outputs": [
    {
     "data": {
      "text/plain": [
       "2.6"
      ]
     },
     "execution_count": 10,
     "metadata": {},
     "output_type": "execute_result"
    }
   ],
   "source": [
    "ASED.Rv"
   ]
  },
  {
   "cell_type": "code",
   "execution_count": null,
   "metadata": {
    "collapsed": true
   },
   "outputs": [],
   "source": []
  }
 ],
 "metadata": {
  "kernelspec": {
   "display_name": "Python 2",
   "language": "python",
   "name": "python2"
  },
  "language_info": {
   "codemirror_mode": {
    "name": "ipython",
    "version": 2
   },
   "file_extension": ".py",
   "mimetype": "text/x-python",
   "name": "python",
   "nbconvert_exporter": "python",
   "pygments_lexer": "ipython2",
   "version": "2.7.14"
  }
 },
 "nbformat": 4,
 "nbformat_minor": 2
}
